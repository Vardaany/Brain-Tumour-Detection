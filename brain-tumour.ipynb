{
 "cells": [
  {
   "cell_type": "markdown",
   "id": "f70538d8",
   "metadata": {
    "papermill": {
     "duration": 0.016167,
     "end_time": "2021-10-30T13:53:58.047718",
     "exception": false,
     "start_time": "2021-10-30T13:53:58.031551",
     "status": "completed"
    },
    "tags": []
   },
   "source": [
    "#  Importing Datasets"
   ]
  },
  {
   "cell_type": "code",
   "execution_count": 1,
   "id": "57f9b0e9",
   "metadata": {
    "execution": {
     "iopub.execute_input": "2021-10-30T13:53:58.076741Z",
     "iopub.status.busy": "2021-10-30T13:53:58.075658Z",
     "iopub.status.idle": "2021-10-30T13:54:04.214115Z",
     "shell.execute_reply": "2021-10-30T13:54:04.213186Z",
     "shell.execute_reply.started": "2021-10-30T13:39:17.832215Z"
    },
    "papermill": {
     "duration": 6.153929,
     "end_time": "2021-10-30T13:54:04.214312",
     "exception": false,
     "start_time": "2021-10-30T13:53:58.060383",
     "status": "completed"
    },
    "tags": []
   },
   "outputs": [],
   "source": [
    "import os\n",
    "import keras \n",
    "from keras.models import Sequential\n",
    "from keras.layers import Conv2D, MaxPooling2D, Flatten, Dense, Dropout, BatchNormalization\n",
    "from PIL import Image\n",
    "import numpy as np\n",
    "import pandas as pd\n",
    "import matplotlib.pyplot as plt\n",
    "plt.style.use('dark_background')\n",
    "from sklearn.model_selection import train_test_split\n",
    "from sklearn.preprocessing import OneHotEncoder "
   ]
  },
  {
   "cell_type": "markdown",
   "id": "dde3f9aa",
   "metadata": {
    "papermill": {
     "duration": 0.012137,
     "end_time": "2021-10-30T13:54:04.239296",
     "exception": false,
     "start_time": "2021-10-30T13:54:04.227159",
     "status": "completed"
    },
    "tags": []
   },
   "source": [
    "# One Hot Encoding the Target Classes"
   ]
  },
  {
   "cell_type": "code",
   "execution_count": 2,
   "id": "4ff7f0f7",
   "metadata": {
    "execution": {
     "iopub.execute_input": "2021-10-30T13:54:04.269303Z",
     "iopub.status.busy": "2021-10-30T13:54:04.268626Z",
     "iopub.status.idle": "2021-10-30T13:54:04.280695Z",
     "shell.execute_reply": "2021-10-30T13:54:04.281130Z",
     "shell.execute_reply.started": "2021-10-30T13:39:20.212511Z"
    },
    "papermill": {
     "duration": 0.029678,
     "end_time": "2021-10-30T13:54:04.281300",
     "exception": false,
     "start_time": "2021-10-30T13:54:04.251622",
     "status": "completed"
    },
    "tags": []
   },
   "outputs": [
    {
     "data": {
      "text/plain": [
       "OneHotEncoder()"
      ]
     },
     "execution_count": 2,
     "metadata": {},
     "output_type": "execute_result"
    }
   ],
   "source": [
    "encoder = OneHotEncoder()\n",
    "encoder.fit([[0], [1]]) \n",
    "\n",
    "# 0 - Tumor\n",
    "# 1 - Normal"
   ]
  },
  {
   "cell_type": "markdown",
   "id": "21ed06aa",
   "metadata": {
    "papermill": {
     "duration": 0.012855,
     "end_time": "2021-10-30T13:54:04.307434",
     "exception": false,
     "start_time": "2021-10-30T13:54:04.294579",
     "status": "completed"
    },
    "tags": []
   },
   "source": [
    "# Creating 3 Important Lists --\n",
    "1. data list for storing image data in numpy array form\n",
    "2. paths list for storing paths of all images\n",
    "3. result list for storing one hot encoded form of target class whether normal or tumor"
   ]
  },
  {
   "cell_type": "code",
   "execution_count": 3,
   "id": "36132001",
   "metadata": {
    "execution": {
     "iopub.execute_input": "2021-10-30T13:54:04.337231Z",
     "iopub.status.busy": "2021-10-30T13:54:04.336286Z",
     "iopub.status.idle": "2021-10-30T13:54:05.361673Z",
     "shell.execute_reply": "2021-10-30T13:54:05.361077Z",
     "shell.execute_reply.started": "2021-10-30T13:39:23.036791Z"
    },
    "papermill": {
     "duration": 1.041003,
     "end_time": "2021-10-30T13:54:05.361816",
     "exception": false,
     "start_time": "2021-10-30T13:54:04.320813",
     "status": "completed"
    },
    "tags": []
   },
   "outputs": [],
   "source": [
    "# This cell updates result list for images with tumor\n",
    "\n",
    "data = []\n",
    "paths = []\n",
    "result = []\n",
    "\n",
    "for r, d, f in os.walk(r'../input/brain-mri-images-for-brain-tumor-detection/yes'):\n",
    "    for file in f:\n",
    "        if '.jpg' in file:\n",
    "            paths.append(os.path.join(r, file))\n",
    "\n",
    "for path in paths:\n",
    "    img = Image.open(path)\n",
    "    img = img.resize((128,128))\n",
    "    img = np.array(img)\n",
    "    if(img.shape == (128,128,3)):\n",
    "        data.append(np.array(img))\n",
    "        result.append(encoder.transform([[0]]).toarray())"
   ]
  },
  {
   "cell_type": "code",
   "execution_count": 4,
   "id": "4d6c929d",
   "metadata": {
    "execution": {
     "iopub.execute_input": "2021-10-30T13:54:05.391170Z",
     "iopub.status.busy": "2021-10-30T13:54:05.390490Z",
     "iopub.status.idle": "2021-10-30T13:54:06.067575Z",
     "shell.execute_reply": "2021-10-30T13:54:06.068236Z",
     "shell.execute_reply.started": "2021-10-30T13:39:27.332106Z"
    },
    "papermill": {
     "duration": 0.693407,
     "end_time": "2021-10-30T13:54:06.068432",
     "exception": false,
     "start_time": "2021-10-30T13:54:05.375025",
     "status": "completed"
    },
    "tags": []
   },
   "outputs": [],
   "source": [
    "# This cell updates result list for images without tumor\n",
    "\n",
    "paths = []\n",
    "for r, d, f in os.walk(r\"../input/brain-mri-images-for-brain-tumor-detection/no\"):\n",
    "    for file in f:\n",
    "        if '.jpg' in file:\n",
    "            paths.append(os.path.join(r, file))\n",
    "\n",
    "for path in paths:\n",
    "    img = Image.open(path)\n",
    "    img = img.resize((128,128))\n",
    "    img = np.array(img)\n",
    "    if(img.shape == (128,128,3)):\n",
    "        data.append(np.array(img))\n",
    "        result.append(encoder.transform([[1]]).toarray())"
   ]
  },
  {
   "cell_type": "code",
   "execution_count": 5,
   "id": "08aacb90",
   "metadata": {
    "execution": {
     "iopub.execute_input": "2021-10-30T13:54:06.099491Z",
     "iopub.status.busy": "2021-10-30T13:54:06.098826Z",
     "iopub.status.idle": "2021-10-30T13:54:06.109805Z",
     "shell.execute_reply": "2021-10-30T13:54:06.110341Z",
     "shell.execute_reply.started": "2021-10-30T13:39:30.651121Z"
    },
    "papermill": {
     "duration": 0.028908,
     "end_time": "2021-10-30T13:54:06.110525",
     "exception": false,
     "start_time": "2021-10-30T13:54:06.081617",
     "status": "completed"
    },
    "tags": []
   },
   "outputs": [
    {
     "data": {
      "text/plain": [
       "(139, 128, 128, 3)"
      ]
     },
     "execution_count": 5,
     "metadata": {},
     "output_type": "execute_result"
    }
   ],
   "source": [
    "data = np.array(data)\n",
    "data.shape"
   ]
  },
  {
   "cell_type": "code",
   "execution_count": 6,
   "id": "19bee31c",
   "metadata": {
    "execution": {
     "iopub.execute_input": "2021-10-30T13:54:06.142496Z",
     "iopub.status.busy": "2021-10-30T13:54:06.141697Z",
     "iopub.status.idle": "2021-10-30T13:54:06.146860Z",
     "shell.execute_reply": "2021-10-30T13:54:06.147393Z",
     "shell.execute_reply.started": "2021-10-30T13:39:33.451591Z"
    },
    "papermill": {
     "duration": 0.022344,
     "end_time": "2021-10-30T13:54:06.147579",
     "exception": false,
     "start_time": "2021-10-30T13:54:06.125235",
     "status": "completed"
    },
    "tags": []
   },
   "outputs": [],
   "source": [
    "result = np.array(result)\n",
    "result = result.reshape(139,2)"
   ]
  },
  {
   "cell_type": "markdown",
   "id": "d21aa670",
   "metadata": {
    "papermill": {
     "duration": 0.013701,
     "end_time": "2021-10-30T13:54:06.176259",
     "exception": false,
     "start_time": "2021-10-30T13:54:06.162558",
     "status": "completed"
    },
    "tags": []
   },
   "source": [
    "# Splitting the Data into Training & Testing"
   ]
  },
  {
   "cell_type": "code",
   "execution_count": 7,
   "id": "3497b726",
   "metadata": {
    "execution": {
     "iopub.execute_input": "2021-10-30T13:54:06.210430Z",
     "iopub.status.busy": "2021-10-30T13:54:06.209759Z",
     "iopub.status.idle": "2021-10-30T13:54:06.215909Z",
     "shell.execute_reply": "2021-10-30T13:54:06.216516Z",
     "shell.execute_reply.started": "2021-10-30T13:40:03.112469Z"
    },
    "papermill": {
     "duration": 0.026078,
     "end_time": "2021-10-30T13:54:06.216687",
     "exception": false,
     "start_time": "2021-10-30T13:54:06.190609",
     "status": "completed"
    },
    "tags": []
   },
   "outputs": [],
   "source": [
    "x_train,x_test,y_train,y_test = train_test_split(data, result, test_size=0.2, shuffle=True, random_state=0)"
   ]
  },
  {
   "cell_type": "markdown",
   "id": "219d52aa",
   "metadata": {
    "papermill": {
     "duration": 0.012704,
     "end_time": "2021-10-30T13:54:06.242781",
     "exception": false,
     "start_time": "2021-10-30T13:54:06.230077",
     "status": "completed"
    },
    "tags": []
   },
   "source": [
    "# Model Building"
   ]
  },
  {
   "cell_type": "code",
   "execution_count": 8,
   "id": "72577796",
   "metadata": {
    "execution": {
     "iopub.execute_input": "2021-10-30T13:54:06.278446Z",
     "iopub.status.busy": "2021-10-30T13:54:06.277600Z",
     "iopub.status.idle": "2021-10-30T13:54:06.936973Z",
     "shell.execute_reply": "2021-10-30T13:54:06.936344Z",
     "shell.execute_reply.started": "2021-10-30T13:41:22.262714Z"
    },
    "papermill": {
     "duration": 0.680682,
     "end_time": "2021-10-30T13:54:06.937139",
     "exception": false,
     "start_time": "2021-10-30T13:54:06.256457",
     "status": "completed"
    },
    "tags": []
   },
   "outputs": [
    {
     "name": "stderr",
     "output_type": "stream",
     "text": [
      "\n",
      "User settings:\n",
      "\n",
      "   KMP_AFFINITY=granularity=fine,verbose,compact,1,0\n",
      "   KMP_BLOCKTIME=0\n",
      "   KMP_DUPLICATE_LIB_OK=True\n",
      "   KMP_INIT_AT_FORK=FALSE\n",
      "   KMP_SETTINGS=1\n",
      "   KMP_WARNINGS=0\n",
      "\n",
      "Effective settings:\n",
      "\n",
      "   KMP_ABORT_DELAY=0\n",
      "   KMP_ADAPTIVE_LOCK_PROPS='1,1024'\n",
      "   KMP_ALIGN_ALLOC=64\n",
      "   KMP_ALL_THREADPRIVATE=128\n",
      "   KMP_ATOMIC_MODE=2\n",
      "   KMP_BLOCKTIME=0\n",
      "   KMP_CPUINFO_FILE: value is not defined\n",
      "   KMP_DETERMINISTIC_REDUCTION=false\n",
      "   KMP_DEVICE_THREAD_LIMIT=2147483647\n",
      "   KMP_DISP_NUM_BUFFERS=7\n",
      "   KMP_DUPLICATE_LIB_OK=true\n",
      "   KMP_ENABLE_TASK_THROTTLING=true\n",
      "   KMP_FORCE_REDUCTION: value is not defined\n",
      "   KMP_FOREIGN_THREADS_THREADPRIVATE=true\n",
      "   KMP_FORKJOIN_BARRIER='2,2'\n",
      "   KMP_FORKJOIN_BARRIER_PATTERN='hyper,hyper'\n",
      "   KMP_GTID_MODE=3\n",
      "   KMP_HANDLE_SIGNALS=false\n",
      "   KMP_HOT_TEAMS_MAX_LEVEL=1\n",
      "   KMP_HOT_TEAMS_MODE=0\n",
      "   KMP_INIT_AT_FORK=true\n",
      "   KMP_LIBRARY=throughput\n",
      "   KMP_LOCK_KIND=queuing\n",
      "   KMP_MALLOC_POOL_INCR=1M\n",
      "   KMP_NUM_LOCKS_IN_BLOCK=1\n",
      "   KMP_PLAIN_BARRIER='2,2'\n",
      "   KMP_PLAIN_BARRIER_PATTERN='hyper,hyper'\n",
      "   KMP_REDUCTION_BARRIER='1,1'\n",
      "   KMP_REDUCTION_BARRIER_PATTERN='hyper,hyper'\n",
      "   KMP_SCHEDULE='static,balanced;guided,iterative'\n",
      "   KMP_SETTINGS=true\n",
      "   KMP_SPIN_BACKOFF_PARAMS='4096,100'\n",
      "   KMP_STACKOFFSET=64\n",
      "   KMP_STACKPAD=0\n",
      "   KMP_STACKSIZE=8M\n",
      "   KMP_STORAGE_MAP=false\n",
      "   KMP_TASKING=2\n",
      "   KMP_TASKLOOP_MIN_TASKS=0\n",
      "   KMP_TASK_STEALING_CONSTRAINT=1\n",
      "   KMP_TEAMS_THREAD_LIMIT=4\n",
      "   KMP_TOPOLOGY_METHOD=all\n",
      "   KMP_USE_YIELD=1\n",
      "   KMP_VERSION=false\n",
      "   KMP_WARNINGS=false\n",
      "   OMP_AFFINITY_FORMAT='OMP: pid %P tid %i thread %n bound to OS proc set {%A}'\n",
      "   OMP_ALLOCATOR=omp_default_mem_alloc\n",
      "   OMP_CANCELLATION=false\n",
      "   OMP_DEFAULT_DEVICE=0\n",
      "   OMP_DISPLAY_AFFINITY=false\n",
      "   OMP_DISPLAY_ENV=false\n",
      "   OMP_DYNAMIC=false\n",
      "   OMP_MAX_ACTIVE_LEVELS=1\n",
      "   OMP_MAX_TASK_PRIORITY=0\n",
      "   OMP_NESTED: deprecated; max-active-levels-var=1\n",
      "   OMP_NUM_THREADS: value is not defined\n",
      "   OMP_PLACES: value is not defined\n",
      "   OMP_PROC_BIND='intel'\n",
      "   OMP_SCHEDULE='static'\n",
      "   OMP_STACKSIZE=8M\n",
      "   OMP_TARGET_OFFLOAD=DEFAULT\n",
      "   OMP_THREAD_LIMIT=2147483647\n",
      "   OMP_WAIT_POLICY=PASSIVE\n",
      "   KMP_AFFINITY='verbose,warnings,respect,granularity=fine,compact,1,0'\n",
      "\n",
      "2021-10-30 13:54:06.312032: I tensorflow/core/common_runtime/process_util.cc:146] Creating new thread pool with default inter op setting: 2. Tune using inter_op_parallelism_threads for best performance.\n"
     ]
    },
    {
     "name": "stdout",
     "output_type": "stream",
     "text": [
      "Model: \"sequential\"\n",
      "_________________________________________________________________\n",
      "Layer (type)                 Output Shape              Param #   \n",
      "=================================================================\n",
      "conv2d (Conv2D)              (None, 128, 128, 32)      416       \n",
      "_________________________________________________________________\n",
      "conv2d_1 (Conv2D)            (None, 128, 128, 32)      4128      \n",
      "_________________________________________________________________\n",
      "batch_normalization (BatchNo (None, 128, 128, 32)      128       \n",
      "_________________________________________________________________\n",
      "max_pooling2d (MaxPooling2D) (None, 64, 64, 32)        0         \n",
      "_________________________________________________________________\n",
      "dropout (Dropout)            (None, 64, 64, 32)        0         \n",
      "_________________________________________________________________\n",
      "conv2d_2 (Conv2D)            (None, 64, 64, 64)        8256      \n",
      "_________________________________________________________________\n",
      "conv2d_3 (Conv2D)            (None, 64, 64, 64)        16448     \n",
      "_________________________________________________________________\n",
      "batch_normalization_1 (Batch (None, 64, 64, 64)        256       \n",
      "_________________________________________________________________\n",
      "max_pooling2d_1 (MaxPooling2 (None, 32, 32, 64)        0         \n",
      "_________________________________________________________________\n",
      "dropout_1 (Dropout)          (None, 32, 32, 64)        0         \n",
      "_________________________________________________________________\n",
      "flatten (Flatten)            (None, 65536)             0         \n",
      "_________________________________________________________________\n",
      "dense (Dense)                (None, 512)               33554944  \n",
      "_________________________________________________________________\n",
      "dropout_2 (Dropout)          (None, 512)               0         \n",
      "_________________________________________________________________\n",
      "dense_1 (Dense)              (None, 2)                 1026      \n",
      "=================================================================\n",
      "Total params: 33,585,602\n",
      "Trainable params: 33,585,410\n",
      "Non-trainable params: 192\n",
      "_________________________________________________________________\n",
      "None\n"
     ]
    }
   ],
   "source": [
    "model = Sequential()\n",
    "\n",
    "model.add(Conv2D(32, kernel_size=(2, 2), input_shape=(128, 128, 3), padding = 'Same'))\n",
    "model.add(Conv2D(32, kernel_size=(2, 2),  activation ='relu', padding = 'Same'))\n",
    "\n",
    "\n",
    "model.add(BatchNormalization())\n",
    "model.add(MaxPooling2D(pool_size=(2, 2)))\n",
    "model.add(Dropout(0.25))\n",
    "\n",
    "model.add(Conv2D(64, kernel_size = (2,2), activation ='relu', padding = 'Same'))\n",
    "model.add(Conv2D(64, kernel_size = (2,2), activation ='relu', padding = 'Same'))\n",
    "\n",
    "model.add(BatchNormalization())\n",
    "model.add(MaxPooling2D(pool_size=(2,2), strides=(2,2)))\n",
    "model.add(Dropout(0.25))\n",
    "\n",
    "model.add(Flatten())\n",
    "\n",
    "model.add(Dense(512, activation='relu'))\n",
    "model.add(Dropout(0.5))\n",
    "model.add(Dense(2, activation='softmax'))\n",
    "\n",
    "model.compile(loss = \"categorical_crossentropy\", optimizer='Adamax')\n",
    "print(model.summary())"
   ]
  },
  {
   "cell_type": "code",
   "execution_count": 9,
   "id": "1d9d4c8f",
   "metadata": {
    "execution": {
     "iopub.execute_input": "2021-10-30T13:54:06.971553Z",
     "iopub.status.busy": "2021-10-30T13:54:06.970798Z",
     "iopub.status.idle": "2021-10-30T13:54:06.974687Z",
     "shell.execute_reply": "2021-10-30T13:54:06.974176Z",
     "shell.execute_reply.started": "2021-10-30T13:41:45.536655Z"
    },
    "papermill": {
     "duration": 0.023345,
     "end_time": "2021-10-30T13:54:06.974822",
     "exception": false,
     "start_time": "2021-10-30T13:54:06.951477",
     "status": "completed"
    },
    "tags": []
   },
   "outputs": [
    {
     "data": {
      "text/plain": [
       "(111, 2)"
      ]
     },
     "execution_count": 9,
     "metadata": {},
     "output_type": "execute_result"
    }
   ],
   "source": [
    "y_train.shape"
   ]
  },
  {
   "cell_type": "code",
   "execution_count": 10,
   "id": "da5c7471",
   "metadata": {
    "execution": {
     "iopub.execute_input": "2021-10-30T13:54:07.016874Z",
     "iopub.status.busy": "2021-10-30T13:54:07.015924Z",
     "iopub.status.idle": "2021-10-30T13:55:20.888305Z",
     "shell.execute_reply": "2021-10-30T13:55:20.888865Z",
     "shell.execute_reply.started": "2021-10-30T13:47:20.562906Z"
    },
    "papermill": {
     "duration": 73.89631,
     "end_time": "2021-10-30T13:55:20.889258",
     "exception": false,
     "start_time": "2021-10-30T13:54:06.992948",
     "status": "completed"
    },
    "tags": []
   },
   "outputs": [
    {
     "name": "stderr",
     "output_type": "stream",
     "text": [
      "2021-10-30 13:54:07.109950: I tensorflow/compiler/mlir/mlir_graph_optimization_pass.cc:185] None of the MLIR Optimization Passes are enabled (registered 2)\n"
     ]
    },
    {
     "name": "stdout",
     "output_type": "stream",
     "text": [
      "Epoch 1/30\n",
      "3/3 [==============================] - 4s 1s/step - loss: 36.6687 - val_loss: 25.6589\n",
      "Epoch 2/30\n",
      "3/3 [==============================] - 3s 995ms/step - loss: 23.4962 - val_loss: 16.4016\n",
      "Epoch 3/30\n",
      "3/3 [==============================] - 4s 1s/step - loss: 10.1984 - val_loss: 5.6337\n",
      "Epoch 4/30\n",
      "3/3 [==============================] - 3s 792ms/step - loss: 4.9712 - val_loss: 5.0460\n",
      "Epoch 5/30\n",
      "3/3 [==============================] - 2s 760ms/step - loss: 3.6445 - val_loss: 3.1136\n",
      "Epoch 6/30\n",
      "3/3 [==============================] - 2s 738ms/step - loss: 1.2549 - val_loss: 7.0276\n",
      "Epoch 7/30\n",
      "3/3 [==============================] - 2s 750ms/step - loss: 1.0617 - val_loss: 7.8082\n",
      "Epoch 8/30\n",
      "3/3 [==============================] - 2s 738ms/step - loss: 0.7819 - val_loss: 5.7432\n",
      "Epoch 9/30\n",
      "3/3 [==============================] - 2s 792ms/step - loss: 0.6176 - val_loss: 3.7152\n",
      "Epoch 10/30\n",
      "3/3 [==============================] - 2s 743ms/step - loss: 0.2654 - val_loss: 2.3315\n",
      "Epoch 11/30\n",
      "3/3 [==============================] - 2s 752ms/step - loss: 0.2342 - val_loss: 1.5668\n",
      "Epoch 12/30\n",
      "3/3 [==============================] - 3s 987ms/step - loss: 0.1932 - val_loss: 1.1221\n",
      "Epoch 13/30\n",
      "3/3 [==============================] - 2s 738ms/step - loss: 0.1876 - val_loss: 1.0229\n",
      "Epoch 14/30\n",
      "3/3 [==============================] - 2s 773ms/step - loss: 0.2602 - val_loss: 0.9713\n",
      "Epoch 15/30\n",
      "3/3 [==============================] - 2s 721ms/step - loss: 0.1065 - val_loss: 1.1403\n",
      "Epoch 16/30\n",
      "3/3 [==============================] - 2s 731ms/step - loss: 0.0083 - val_loss: 1.3374\n",
      "Epoch 17/30\n",
      "3/3 [==============================] - 2s 754ms/step - loss: 0.0663 - val_loss: 1.4742\n",
      "Epoch 18/30\n",
      "3/3 [==============================] - 2s 759ms/step - loss: 0.0339 - val_loss: 1.5338\n",
      "Epoch 19/30\n",
      "3/3 [==============================] - 2s 746ms/step - loss: 0.0733 - val_loss: 1.5191\n",
      "Epoch 20/30\n",
      "3/3 [==============================] - 2s 753ms/step - loss: 0.0225 - val_loss: 1.5267\n",
      "Epoch 21/30\n",
      "3/3 [==============================] - 2s 744ms/step - loss: 0.0497 - val_loss: 1.4470\n",
      "Epoch 22/30\n",
      "3/3 [==============================] - 2s 743ms/step - loss: 0.0341 - val_loss: 1.3810\n",
      "Epoch 23/30\n",
      "3/3 [==============================] - 2s 735ms/step - loss: 0.0029 - val_loss: 1.3285\n",
      "Epoch 24/30\n",
      "3/3 [==============================] - 2s 739ms/step - loss: 0.2574 - val_loss: 1.2456\n",
      "Epoch 25/30\n",
      "3/3 [==============================] - 2s 755ms/step - loss: 9.5747e-04 - val_loss: 1.1907\n",
      "Epoch 26/30\n",
      "3/3 [==============================] - 2s 850ms/step - loss: 0.0068 - val_loss: 1.1519\n",
      "Epoch 27/30\n",
      "3/3 [==============================] - 3s 780ms/step - loss: 0.0011 - val_loss: 1.1280\n",
      "Epoch 28/30\n",
      "3/3 [==============================] - 2s 774ms/step - loss: 0.0063 - val_loss: 1.1072\n",
      "Epoch 29/30\n",
      "3/3 [==============================] - 2s 730ms/step - loss: 0.0040 - val_loss: 1.0885\n",
      "Epoch 30/30\n",
      "3/3 [==============================] - 2s 743ms/step - loss: 0.0152 - val_loss: 1.0656\n"
     ]
    }
   ],
   "source": [
    "history = model.fit(x_train, y_train, epochs = 30, batch_size = 40, verbose = 1,validation_data = (x_test, y_test))"
   ]
  },
  {
   "cell_type": "markdown",
   "id": "ff448402",
   "metadata": {
    "papermill": {
     "duration": 0.048316,
     "end_time": "2021-10-30T13:55:20.986789",
     "exception": false,
     "start_time": "2021-10-30T13:55:20.938473",
     "status": "completed"
    },
    "tags": []
   },
   "source": [
    "# Plotting Losses"
   ]
  },
  {
   "cell_type": "code",
   "execution_count": 11,
   "id": "67b8c1e3",
   "metadata": {
    "execution": {
     "iopub.execute_input": "2021-10-30T13:55:21.114108Z",
     "iopub.status.busy": "2021-10-30T13:55:21.105945Z",
     "iopub.status.idle": "2021-10-30T13:55:21.357653Z",
     "shell.execute_reply": "2021-10-30T13:55:21.357086Z",
     "shell.execute_reply.started": "2021-10-30T13:43:52.251957Z"
    },
    "papermill": {
     "duration": 0.323104,
     "end_time": "2021-10-30T13:55:21.357798",
     "exception": false,
     "start_time": "2021-10-30T13:55:21.034694",
     "status": "completed"
    },
    "tags": []
   },
   "outputs": [
    {
     "data": {
      "image/png": "[encoded data removed]",
      "text/plain": [
       "<Figure size 432x288 with 1 Axes>"
      ]
     },
     "metadata": {},
     "output_type": "display_data"
    }
   ],
   "source": [
    "plt.plot(history.history['loss'])\n",
    "plt.plot(history.history['val_loss'])\n",
    "plt.title('Model Loss')\n",
    "plt.ylabel('Loss')\n",
    "plt.xlabel('Epoch')\n",
    "plt.legend(['Test', 'Validation'], loc='upper right')\n",
    "plt.show()"
   ]
  },
  {
   "cell_type": "markdown",
   "id": "90648062",
   "metadata": {
    "papermill": {
     "duration": 0.155837,
     "end_time": "2021-10-30T13:55:21.564529",
     "exception": false,
     "start_time": "2021-10-30T13:55:21.408692",
     "status": "completed"
    },
    "tags": []
   },
   "source": [
    "# Just Checking the Model"
   ]
  },
  {
   "cell_type": "code",
   "execution_count": 12,
   "id": "90dad005",
   "metadata": {
    "execution": {
     "iopub.execute_input": "2021-10-30T13:55:21.676013Z",
     "iopub.status.busy": "2021-10-30T13:55:21.675368Z",
     "iopub.status.idle": "2021-10-30T13:55:21.678881Z",
     "shell.execute_reply": "2021-10-30T13:55:21.679488Z",
     "shell.execute_reply.started": "2021-10-30T13:44:17.744667Z"
    },
    "papermill": {
     "duration": 0.058838,
     "end_time": "2021-10-30T13:55:21.679661",
     "exception": false,
     "start_time": "2021-10-30T13:55:21.620823",
     "status": "completed"
    },
    "tags": []
   },
   "outputs": [],
   "source": [
    "def names(number):\n",
    "    if number==0:\n",
    "        return 'Its a Tumor'\n",
    "    else:\n",
    "        return 'No, Its not a tumor'"
   ]
  },
  {
   "cell_type": "code",
   "execution_count": 13,
   "id": "89e82748",
   "metadata": {
    "execution": {
     "iopub.execute_input": "2021-10-30T13:55:21.781477Z",
     "iopub.status.busy": "2021-10-30T13:55:21.780815Z",
     "iopub.status.idle": "2021-10-30T13:55:22.213976Z",
     "shell.execute_reply": "2021-10-30T13:55:22.214601Z",
     "shell.execute_reply.started": "2021-10-30T13:44:49.983944Z"
    },
    "papermill": {
     "duration": 0.48622,
     "end_time": "2021-10-30T13:55:22.214775",
     "exception": false,
     "start_time": "2021-10-30T13:55:21.728555",
     "status": "completed"
    },
    "tags": []
   },
   "outputs": [
    {
     "name": "stdout",
     "output_type": "stream",
     "text": [
      "100.0% Confidence This Is No, Its not a tumor\n"
     ]
    },
    {
     "data": {
      "image/png": "[encoded data removed]",
      "text/plain": [
       "<Figure size 432x288 with 1 Axes>"
      ]
     },
     "metadata": {},
     "output_type": "display_data"
    }
   ],
   "source": [
    "from matplotlib.pyplot import imshow\n",
    "img = Image.open(r\"../input/brain-mri-images-for-brain-tumor-detection/no/N16.jpg\")\n",
    "x = np.array(img.resize((128,128)))\n",
    "x = x.reshape(1,128,128,3)\n",
    "res = model.predict_on_batch(x)\n",
    "classification = np.where(res == np.amax(res))[1][0]\n",
    "imshow(img)\n",
    "print(str(res[0][classification]*100) + '% Confidence This Is ' + names(classification))"
   ]
  },
  {
   "cell_type": "code",
   "execution_count": 14,
   "id": "2765c319",
   "metadata": {
    "execution": {
     "iopub.execute_input": "2021-10-30T13:55:22.328488Z",
     "iopub.status.busy": "2021-10-30T13:55:22.327788Z",
     "iopub.status.idle": "2021-10-30T13:55:22.614231Z",
     "shell.execute_reply": "2021-10-30T13:55:22.614771Z",
     "shell.execute_reply.started": "2021-10-30T13:45:44.326656Z"
    },
    "papermill": {
     "duration": 0.342253,
     "end_time": "2021-10-30T13:55:22.614944",
     "exception": false,
     "start_time": "2021-10-30T13:55:22.272691",
     "status": "completed"
    },
    "tags": []
   },
   "outputs": [
    {
     "name": "stdout",
     "output_type": "stream",
     "text": [
      "99.33506846427917% Confidence This Is A Its a Tumor\n"
     ]
    },
    {
     "data": {
      "image/png": "[encoded data removed]",
      "text/plain": [
       "<Figure size 432x288 with 1 Axes>"
      ]
     },
     "metadata": {},
     "output_type": "display_data"
    }
   ],
   "source": [
    "from matplotlib.pyplot import imshow\n",
    "img = Image.open(r\"../input/brain-mri-images-for-brain-tumor-detection/yes/Y3.jpg\")\n",
    "x = np.array(img.resize((128,128)))\n",
    "x = x.reshape(1,128,128,3)\n",
    "res = model.predict_on_batch(x)\n",
    "classification = np.where(res == np.amax(res))[1][0]\n",
    "imshow(img)\n",
    "print(str(res[0][classification]*100) + '% Confidence This Is A ' + names(classification))"
   ]
  },
  {
   "cell_type": "markdown",
   "id": "14a44d9b",
   "metadata": {
    "papermill": {
     "duration": 0.053957,
     "end_time": "2021-10-30T13:55:22.724316",
     "exception": false,
     "start_time": "2021-10-30T13:55:22.670359",
     "status": "completed"
    },
    "tags": []
   },
   "source": []
  },
  {
   "cell_type": "markdown",
   "id": "0aa98913",
   "metadata": {
    "papermill": {
     "duration": 0.055276,
     "end_time": "2021-10-30T13:55:22.833072",
     "exception": false,
     "start_time": "2021-10-30T13:55:22.777796",
     "status": "completed"
    },
    "tags": []
   },
   "source": [
    "# Thank You"
   ]
  }
 ],
 "metadata": {
  "kernelspec": {
   "display_name": "Python 3",
   "language": "python",
   "name": "python3"
  },
  "language_info": {
   "codemirror_mode": {
    "name": "ipython",
    "version": 3
   },
   "file_extension": ".py",
   "mimetype": "text/x-python",
   "name": "python",
   "nbconvert_exporter": "python",
   "pygments_lexer": "ipython3",
   "version": "3.7.10"
  },
  "papermill": {
   "default_parameters": {},
   "duration": 96.601763,
   "end_time": "2021-10-30T13:55:26.260115",
   "environment_variables": {},
   "exception": null,
   "input_path": "__notebook__.ipynb",
   "output_path": "__notebook__.ipynb",
   "parameters": {},
   "start_time": "2021-10-30T13:53:49.658352",
   "version": "2.3.3"
  }
 },
 "nbformat": 4,
 "nbformat_minor": 5
}
